{
 "cells": [
  {
   "cell_type": "markdown",
   "metadata": {},
   "source": [
    "# Homework 1"
   ]
  },
  {
   "cell_type": "markdown",
   "metadata": {},
   "source": [
    "Nancy Soni"
   ]
  },
  {
   "cell_type": "markdown",
   "metadata": {},
   "source": [
    "In this homework, you will be working with the Lahman baseball statistics database. This database contains pitching, hitting, and fielding statistics for Major League Baseball from 1871 through 2016.  It includes data from the two current leagues (American and National), the four other \"major\" leagues (American Association, Union Association, Players League, and Federal League), and the National Association of 1871-1875. "
   ]
  },
  {
   "cell_type": "markdown",
   "metadata": {},
   "source": [
    "You will be working with the sqlite version of the Lahman database, which is avaiable at https://github.com/jknecht/baseball-archive-sqlite . Download the <b>2016</b> database file. You will be using some of the tables in this database for this homework.  \n",
    "\n",
    "For documentation about the data and its tables, see http://www.seanlahman.com/files/database/readme2017.txt . Note that the documentation is for a dataset that includes the 2017 data, but most of it applies to the 2016 dataset. One difference is that the <i><b>People</i></b> table is named <i><b>Master</i></b> in the 2016 dataset. \n",
    "\n",
    "You need to use SQL queries and the code framework in the file SQLite.ipynb (sqlite3, pandas, matplotlib, seaborn) for this homework. "
   ]
  },
  {
   "cell_type": "markdown",
   "metadata": {},
   "source": [
    "<b>IMPORTANT</b>\n",
    "\n",
    "Your submission should be an ipynb file named in the following format: <i><b>FirstTwoLettersOfFirstnameLastname.ipynb</i></b> . A student named John Doe will have a submission named JoDoe.ipynb . You can use this assignment description file and rename it by selecting <b>File</b> and then <b>Rename</b>.\n",
    "\n",
    "You must use Python code to provide your solutions. Insert your code for each part in cells right after the description. Use the + on the top tab to insert cells. You can use the button labeled with the scissors to delete a cell. You can also change a cell from code to Markdown (such as this one) to insert comments and descriptions. "
   ]
  },
  {
   "cell_type": "code",
   "execution_count": 1,
   "metadata": {},
   "outputs": [],
   "source": [
    "import sqlite3\n",
    "\n",
    "from sqlite3 import Error\n",
    "\n",
    "def create_connection(db_file):\n",
    "    try:\n",
    "        conn = sqlite3.connect(db_file)\n",
    "        return conn\n",
    "    except Error as e:\n",
    "        print(e)\n",
    "    return None\n",
    "\n",
    "# create a database connection\n",
    "conn = create_connection(\"C:/Users/91987/Downloads/lahman2016.sqlite\")\n",
    "\n",
    "c = conn.cursor()"
   ]
  },
  {
   "cell_type": "markdown",
   "metadata": {},
   "source": [
    "## Part I (10 points)"
   ]
  },
  {
   "cell_type": "markdown",
   "metadata": {},
   "source": [
    "(i) Display the names of the tables in the database.\n",
    "\n",
    "(ii) Display the names of the columns in the table Master. \n",
    "\n",
    "(iii) Display the number of rows in the table Master.\n",
    "\n",
    "(iv) Display the nameFirst and nameLast for players whose weight is greater than 280. "
   ]
  },
  {
   "cell_type": "code",
   "execution_count": 2,
   "metadata": {},
   "outputs": [
    {
     "name": "stdout",
     "output_type": "stream",
     "text": [
      "AllstarFull\n",
      "Appearances\n",
      "AwardsManagers\n",
      "AwardsPlayers\n",
      "AwardsShareManagers\n",
      "AwardsSharePlayers\n",
      "Batting\n",
      "BattingPost\n",
      "CollegePlaying\n",
      "Fielding\n",
      "FieldingOF\n",
      "FieldingOFsplit\n",
      "FieldingPost\n",
      "HallOfFame\n",
      "HomeGames\n",
      "Managers\n",
      "ManagersHalf\n",
      "Master\n",
      "Parks\n",
      "Pitching\n",
      "PitchingPost\n",
      "Salaries\n",
      "Schools\n",
      "SeriesPost\n",
      "Teams\n",
      "TeamsFranchises\n",
      "TeamsHalf\n"
     ]
    }
   ],
   "source": [
    "# Display the the list of tables in the database\n",
    "for row in c.execute(\"SELECT name FROM sqlite_master WHERE type='table';\"):\n",
    "    print(row[0])"
   ]
  },
  {
   "cell_type": "code",
   "execution_count": 3,
   "metadata": {},
   "outputs": [
    {
     "name": "stdout",
     "output_type": "stream",
     "text": [
      "playerID\n",
      "birthYear\n",
      "birthMonth\n",
      "birthDay\n",
      "birthCountry\n",
      "birthState\n",
      "birthCity\n",
      "deathYear\n",
      "deathMonth\n",
      "deathDay\n",
      "deathCountry\n",
      "deathState\n",
      "deathCity\n",
      "nameFirst\n",
      "nameLast\n",
      "nameGiven\n",
      "weight\n",
      "height\n",
      "bats\n",
      "throws\n",
      "debut\n",
      "finalGame\n",
      "retroID\n",
      "bbrefID\n"
     ]
    }
   ],
   "source": [
    "#Display the names of the columns in the table Master.\n",
    "c.execute(\"SELECT * FROM Master\")\n",
    "colnames = c.description\n",
    "\n",
    "for row in colnames:\n",
    "    print(row[0])"
   ]
  },
  {
   "cell_type": "code",
   "execution_count": 4,
   "metadata": {
    "scrolled": true
   },
   "outputs": [
    {
     "name": "stdout",
     "output_type": "stream",
     "text": [
      "(19105,)\n"
     ]
    }
   ],
   "source": [
    "#number of rows in tabele Master\n",
    "c.execute(\"SELECT count(*) FROM Master;\")\n",
    "rows = c.fetchall()\n",
    "print(rows[0])"
   ]
  },
  {
   "cell_type": "code",
   "execution_count": 5,
   "metadata": {},
   "outputs": [
    {
     "name": "stdout",
     "output_type": "stream",
     "text": [
      "('Jumbo', 'Brown')\n",
      "('Jonathan', 'Broxton')\n",
      "('Bartolo', 'Colon')\n",
      "('Adam', 'Dunn')\n",
      "('Jeff', 'Niemann')\n",
      "('Chad', 'Paronto')\n",
      "('Calvin', 'Pickering')\n",
      "('Jon', 'Rauch')\n",
      "('Tyler', 'Robertson')\n",
      "('CC', 'Sabathia')\n",
      "('Kennys', 'Vargas')\n",
      "('Dmitri', 'Young')\n",
      "('Walter', 'Young')\n"
     ]
    }
   ],
   "source": [
    "#list of playes whose weight is greater that 280\n",
    "c.execute(\"select nameFirst, nameLast from Master where weight>280;\")\n",
    "rows = c.fetchall()\n",
    "\n",
    "for row in rows:\n",
    "    print(row)"
   ]
  },
  {
   "cell_type": "markdown",
   "metadata": {},
   "source": [
    "## Part II (20 points)"
   ]
  },
  {
   "cell_type": "markdown",
   "metadata": {},
   "source": [
    "(i) Group players in the Master table with the same birthyear, and report the birthyear, the average height, and the number of players for each birthyear. Order the results by birthyear ascending. Save the results into a Pandas DataFrame. \n",
    "\n",
    "(ii) Plot the results in (i) using a lineplot with the average height on the y axis and year on the x-axis. \n",
    "\n",
    "\n",
    "(iii) Do the same as in (i), but now only include groups with an average height > 70. \n",
    "\n",
    "(iv) Plot the results as in Part (ii)"
   ]
  },
  {
   "cell_type": "code",
   "execution_count": 6,
   "metadata": {},
   "outputs": [],
   "source": [
    "import pandas as pd\n",
    "import numpy as np\n",
    "import seaborn as sns\n",
    "import matplotlib.pyplot as plt"
   ]
  },
  {
   "cell_type": "code",
   "execution_count": 8,
   "metadata": {},
   "outputs": [
    {
     "data": {
      "text/html": [
       "<div>\n",
       "<style scoped>\n",
       "    .dataframe tbody tr th:only-of-type {\n",
       "        vertical-align: middle;\n",
       "    }\n",
       "\n",
       "    .dataframe tbody tr th {\n",
       "        vertical-align: top;\n",
       "    }\n",
       "\n",
       "    .dataframe thead th {\n",
       "        text-align: right;\n",
       "    }\n",
       "</style>\n",
       "<table border=\"1\" class=\"dataframe\">\n",
       "  <thead>\n",
       "    <tr style=\"text-align: right;\">\n",
       "      <th></th>\n",
       "      <th>Birth_Year</th>\n",
       "      <th>Avg_Height</th>\n",
       "      <th>No_of_Players</th>\n",
       "    </tr>\n",
       "  </thead>\n",
       "  <tbody>\n",
       "    <tr>\n",
       "      <th>0</th>\n",
       "      <td>1835</td>\n",
       "      <td>69.000000</td>\n",
       "      <td>1</td>\n",
       "    </tr>\n",
       "    <tr>\n",
       "      <th>1</th>\n",
       "      <td>1836</td>\n",
       "      <td>63.000000</td>\n",
       "      <td>1</td>\n",
       "    </tr>\n",
       "    <tr>\n",
       "      <th>2</th>\n",
       "      <td>1838</td>\n",
       "      <td>69.000000</td>\n",
       "      <td>3</td>\n",
       "    </tr>\n",
       "    <tr>\n",
       "      <th>3</th>\n",
       "      <td>1839</td>\n",
       "      <td>72.000000</td>\n",
       "      <td>1</td>\n",
       "    </tr>\n",
       "    <tr>\n",
       "      <th>4</th>\n",
       "      <td>1840</td>\n",
       "      <td>68.500000</td>\n",
       "      <td>7</td>\n",
       "    </tr>\n",
       "    <tr>\n",
       "      <th>...</th>\n",
       "      <td>...</td>\n",
       "      <td>...</td>\n",
       "      <td>...</td>\n",
       "    </tr>\n",
       "    <tr>\n",
       "      <th>156</th>\n",
       "      <td>1992</td>\n",
       "      <td>73.663636</td>\n",
       "      <td>110</td>\n",
       "    </tr>\n",
       "    <tr>\n",
       "      <th>157</th>\n",
       "      <td>1993</td>\n",
       "      <td>73.803571</td>\n",
       "      <td>56</td>\n",
       "    </tr>\n",
       "    <tr>\n",
       "      <th>158</th>\n",
       "      <td>1994</td>\n",
       "      <td>73.838710</td>\n",
       "      <td>31</td>\n",
       "    </tr>\n",
       "    <tr>\n",
       "      <th>159</th>\n",
       "      <td>1995</td>\n",
       "      <td>74.500000</td>\n",
       "      <td>6</td>\n",
       "    </tr>\n",
       "    <tr>\n",
       "      <th>160</th>\n",
       "      <td>1996</td>\n",
       "      <td>72.000000</td>\n",
       "      <td>1</td>\n",
       "    </tr>\n",
       "  </tbody>\n",
       "</table>\n",
       "<p>161 rows × 3 columns</p>\n",
       "</div>"
      ],
      "text/plain": [
       "     Birth_Year  Avg_Height  No_of_Players\n",
       "0          1835   69.000000              1\n",
       "1          1836   63.000000              1\n",
       "2          1838   69.000000              3\n",
       "3          1839   72.000000              1\n",
       "4          1840   68.500000              7\n",
       "..          ...         ...            ...\n",
       "156        1992   73.663636            110\n",
       "157        1993   73.803571             56\n",
       "158        1994   73.838710             31\n",
       "159        1995   74.500000              6\n",
       "160        1996   72.000000              1\n",
       "\n",
       "[161 rows x 3 columns]"
      ]
     },
     "metadata": {},
     "output_type": "display_data"
    }
   ],
   "source": [
    "#pandas df for average height of players according to birth year\n",
    "avg_height = pd.read_sql_query(\"SELECT birthYear as Birth_Year, avg(height) AS Avg_Height, count(*) AS No_of_Players FROM Master GROUP BY birthYear HAVING Birth_Year NOTNULL AND Avg_Height NOTNULL ORDER BY birthYear\", conn)\n",
    "display(avg_height)"
   ]
  },
  {
   "cell_type": "code",
   "execution_count": 45,
   "metadata": {},
   "outputs": [
    {
     "data": {
      "text/plain": [
       "<Axes: xlabel='Birth_Year', ylabel='Avg_Height'>"
      ]
     },
     "execution_count": 45,
     "metadata": {},
     "output_type": "execute_result"
    },
    {
     "data": {
      "image/png": "[encoded data removed]",
      "text/plain": [
       "<Figure size 640x480 with 1 Axes>"
      ]
     },
     "metadata": {},
     "output_type": "display_data"
    }
   ],
   "source": [
    "#average height vs birth year line plot\n",
    "sns.lineplot(data=avg_height, x=\"Birth_Year\", y=\"Avg_Height\")"
   ]
  },
  {
   "cell_type": "code",
   "execution_count": 10,
   "metadata": {},
   "outputs": [
    {
     "data": {
      "text/html": [
       "<div>\n",
       "<style scoped>\n",
       "    .dataframe tbody tr th:only-of-type {\n",
       "        vertical-align: middle;\n",
       "    }\n",
       "\n",
       "    .dataframe tbody tr th {\n",
       "        vertical-align: top;\n",
       "    }\n",
       "\n",
       "    .dataframe thead th {\n",
       "        text-align: right;\n",
       "    }\n",
       "</style>\n",
       "<table border=\"1\" class=\"dataframe\">\n",
       "  <thead>\n",
       "    <tr style=\"text-align: right;\">\n",
       "      <th></th>\n",
       "      <th>Birth_Year</th>\n",
       "      <th>Avg_Height</th>\n",
       "      <th>No_of_Players</th>\n",
       "    </tr>\n",
       "  </thead>\n",
       "  <tbody>\n",
       "    <tr>\n",
       "      <th>0</th>\n",
       "      <td>1839</td>\n",
       "      <td>72.000000</td>\n",
       "      <td>1</td>\n",
       "    </tr>\n",
       "    <tr>\n",
       "      <th>1</th>\n",
       "      <td>1868</td>\n",
       "      <td>70.114286</td>\n",
       "      <td>90</td>\n",
       "    </tr>\n",
       "    <tr>\n",
       "      <th>2</th>\n",
       "      <td>1871</td>\n",
       "      <td>70.283019</td>\n",
       "      <td>64</td>\n",
       "    </tr>\n",
       "    <tr>\n",
       "      <th>3</th>\n",
       "      <td>1872</td>\n",
       "      <td>70.169492</td>\n",
       "      <td>71</td>\n",
       "    </tr>\n",
       "    <tr>\n",
       "      <th>4</th>\n",
       "      <td>1873</td>\n",
       "      <td>70.329114</td>\n",
       "      <td>86</td>\n",
       "    </tr>\n",
       "    <tr>\n",
       "      <th>...</th>\n",
       "      <td>...</td>\n",
       "      <td>...</td>\n",
       "      <td>...</td>\n",
       "    </tr>\n",
       "    <tr>\n",
       "      <th>121</th>\n",
       "      <td>1992</td>\n",
       "      <td>73.663636</td>\n",
       "      <td>110</td>\n",
       "    </tr>\n",
       "    <tr>\n",
       "      <th>122</th>\n",
       "      <td>1993</td>\n",
       "      <td>73.803571</td>\n",
       "      <td>56</td>\n",
       "    </tr>\n",
       "    <tr>\n",
       "      <th>123</th>\n",
       "      <td>1994</td>\n",
       "      <td>73.838710</td>\n",
       "      <td>31</td>\n",
       "    </tr>\n",
       "    <tr>\n",
       "      <th>124</th>\n",
       "      <td>1995</td>\n",
       "      <td>74.500000</td>\n",
       "      <td>6</td>\n",
       "    </tr>\n",
       "    <tr>\n",
       "      <th>125</th>\n",
       "      <td>1996</td>\n",
       "      <td>72.000000</td>\n",
       "      <td>1</td>\n",
       "    </tr>\n",
       "  </tbody>\n",
       "</table>\n",
       "<p>126 rows × 3 columns</p>\n",
       "</div>"
      ],
      "text/plain": [
       "     Birth_Year  Avg_Height  No_of_Players\n",
       "0          1839   72.000000              1\n",
       "1          1868   70.114286             90\n",
       "2          1871   70.283019             64\n",
       "3          1872   70.169492             71\n",
       "4          1873   70.329114             86\n",
       "..          ...         ...            ...\n",
       "121        1992   73.663636            110\n",
       "122        1993   73.803571             56\n",
       "123        1994   73.838710             31\n",
       "124        1995   74.500000              6\n",
       "125        1996   72.000000              1\n",
       "\n",
       "[126 rows x 3 columns]"
      ]
     },
     "metadata": {},
     "output_type": "display_data"
    }
   ],
   "source": [
    "#pandas df for average height of players according to birth year where average height is more than 70\n",
    "avg_height_70 = pd.read_sql_query(\"SELECT birthYear as Birth_Year, avg(height) AS Avg_Height, count(*) AS No_of_Players FROM Master GROUP BY birthYear HAVING Birth_Year NOTNULL AND  Avg_Height > 70 ORDER BY birthYear\", conn)\n",
    "display(avg_height_70)"
   ]
  },
  {
   "cell_type": "code",
   "execution_count": 11,
   "metadata": {},
   "outputs": [
    {
     "data": {
      "text/plain": [
       "<Axes: xlabel='Birth_Year', ylabel='Avg_Height'>"
      ]
     },
     "execution_count": 11,
     "metadata": {},
     "output_type": "execute_result"
    },
    {
     "data": {
      "image/png": "[encoded data removed]",
      "text/plain": [
       "<Figure size 640x480 with 1 Axes>"
      ]
     },
     "metadata": {},
     "output_type": "display_data"
    }
   ],
   "source": [
    "#average height>70 vs birth year line plot\n",
    "sns.lineplot(data=avg_height_70, x=\"Birth_Year\", y=\"Avg_Height\")"
   ]
  },
  {
   "cell_type": "markdown",
   "metadata": {},
   "source": [
    "## Part III (20 points)"
   ]
  },
  {
   "cell_type": "markdown",
   "metadata": {},
   "source": [
    "(i) Find the namefirst, namelast, playerid and yearid of all people who were successfully inducted into the Hall of Fame in descending order of yearid. Save the results into a Pandas DataFrame.\n",
    "\n",
    "(ii) Display the first 10 rows of the dataframe in (i). \n",
    "\n",
    "(iii) Display the total number of rows of the dataframe in (i).\n",
    "\n",
    "\n",
    "(iv) Find the people who were successfully inducted into the Hall of Fame and played in college at a school located in the state of California. For each person, return their namefirst, namelast, playerid, school name (name_full), and yearid in descending order of yearid. Break ties on yearid by school name (ascending). yearid refers to the year of induction into the Hall of Fame. Save the results in a dataframe and display the entire dataframe. "
   ]
  },
  {
   "cell_type": "code",
   "execution_count": 12,
   "metadata": {},
   "outputs": [],
   "source": [
    "#pandas df for list of inducted players in Hall of Fame\n",
    "inducted_players = pd.read_sql_query(\"\"\"SELECT nameFirst, nameLast, Master.playerID, yearid \n",
    "                                        FROM HallOfFame JOIN Master on HallofFame.playerID = Master.playerID \n",
    "                                        WHERE inducted == 'Y' \n",
    "                                        ORDER BY HallofFame.yearid DESC;\"\"\", conn)"
   ]
  },
  {
   "cell_type": "code",
   "execution_count": 13,
   "metadata": {},
   "outputs": [
    {
     "data": {
      "text/html": [
       "<div>\n",
       "<style scoped>\n",
       "    .dataframe tbody tr th:only-of-type {\n",
       "        vertical-align: middle;\n",
       "    }\n",
       "\n",
       "    .dataframe tbody tr th {\n",
       "        vertical-align: top;\n",
       "    }\n",
       "\n",
       "    .dataframe thead th {\n",
       "        text-align: right;\n",
       "    }\n",
       "</style>\n",
       "<table border=\"1\" class=\"dataframe\">\n",
       "  <thead>\n",
       "    <tr style=\"text-align: right;\">\n",
       "      <th></th>\n",
       "      <th>nameFirst</th>\n",
       "      <th>nameLast</th>\n",
       "      <th>playerID</th>\n",
       "      <th>yearid</th>\n",
       "    </tr>\n",
       "  </thead>\n",
       "  <tbody>\n",
       "    <tr>\n",
       "      <th>0</th>\n",
       "      <td>Jeff</td>\n",
       "      <td>Bagwell</td>\n",
       "      <td>bagweje01</td>\n",
       "      <td>2017</td>\n",
       "    </tr>\n",
       "    <tr>\n",
       "      <th>1</th>\n",
       "      <td>Tim</td>\n",
       "      <td>Raines</td>\n",
       "      <td>raineti01</td>\n",
       "      <td>2017</td>\n",
       "    </tr>\n",
       "    <tr>\n",
       "      <th>2</th>\n",
       "      <td>Ivan</td>\n",
       "      <td>Rodriguez</td>\n",
       "      <td>rodriiv01</td>\n",
       "      <td>2017</td>\n",
       "    </tr>\n",
       "    <tr>\n",
       "      <th>3</th>\n",
       "      <td>John</td>\n",
       "      <td>Schuerholz</td>\n",
       "      <td>schurjo99</td>\n",
       "      <td>2017</td>\n",
       "    </tr>\n",
       "    <tr>\n",
       "      <th>4</th>\n",
       "      <td>Bud</td>\n",
       "      <td>Selig</td>\n",
       "      <td>seligbu99</td>\n",
       "      <td>2017</td>\n",
       "    </tr>\n",
       "    <tr>\n",
       "      <th>5</th>\n",
       "      <td>Ken</td>\n",
       "      <td>Griffey</td>\n",
       "      <td>griffke02</td>\n",
       "      <td>2016</td>\n",
       "    </tr>\n",
       "    <tr>\n",
       "      <th>6</th>\n",
       "      <td>Mike</td>\n",
       "      <td>Piazza</td>\n",
       "      <td>piazzmi01</td>\n",
       "      <td>2016</td>\n",
       "    </tr>\n",
       "    <tr>\n",
       "      <th>7</th>\n",
       "      <td>Craig</td>\n",
       "      <td>Biggio</td>\n",
       "      <td>biggicr01</td>\n",
       "      <td>2015</td>\n",
       "    </tr>\n",
       "    <tr>\n",
       "      <th>8</th>\n",
       "      <td>Randy</td>\n",
       "      <td>Johnson</td>\n",
       "      <td>johnsra05</td>\n",
       "      <td>2015</td>\n",
       "    </tr>\n",
       "    <tr>\n",
       "      <th>9</th>\n",
       "      <td>Pedro</td>\n",
       "      <td>Martinez</td>\n",
       "      <td>martipe02</td>\n",
       "      <td>2015</td>\n",
       "    </tr>\n",
       "  </tbody>\n",
       "</table>\n",
       "</div>"
      ],
      "text/plain": [
       "  nameFirst    nameLast   playerID  yearid\n",
       "0      Jeff     Bagwell  bagweje01    2017\n",
       "1       Tim      Raines  raineti01    2017\n",
       "2      Ivan   Rodriguez  rodriiv01    2017\n",
       "3      John  Schuerholz  schurjo99    2017\n",
       "4       Bud       Selig  seligbu99    2017\n",
       "5       Ken     Griffey  griffke02    2016\n",
       "6      Mike      Piazza  piazzmi01    2016\n",
       "7     Craig      Biggio  biggicr01    2015\n",
       "8     Randy     Johnson  johnsra05    2015\n",
       "9     Pedro    Martinez  martipe02    2015"
      ]
     },
     "execution_count": 13,
     "metadata": {},
     "output_type": "execute_result"
    }
   ],
   "source": [
    "#total number of rows of the inducted_players dataframe\n",
    "inducted_players.head(10)"
   ]
  },
  {
   "cell_type": "code",
   "execution_count": 14,
   "metadata": {},
   "outputs": [
    {
     "data": {
      "text/plain": [
       "317"
      ]
     },
     "execution_count": 14,
     "metadata": {},
     "output_type": "execute_result"
    }
   ],
   "source": [
    "#total number of rows of the inducted_players dataframe\n",
    "len(inducted_players)"
   ]
  },
  {
   "cell_type": "code",
   "execution_count": 39,
   "metadata": {
    "scrolled": true
   },
   "outputs": [
    {
     "data": {
      "text/html": [
       "<div>\n",
       "<style scoped>\n",
       "    .dataframe tbody tr th:only-of-type {\n",
       "        vertical-align: middle;\n",
       "    }\n",
       "\n",
       "    .dataframe tbody tr th {\n",
       "        vertical-align: top;\n",
       "    }\n",
       "\n",
       "    .dataframe thead th {\n",
       "        text-align: right;\n",
       "    }\n",
       "</style>\n",
       "<table border=\"1\" class=\"dataframe\">\n",
       "  <thead>\n",
       "    <tr style=\"text-align: right;\">\n",
       "      <th></th>\n",
       "      <th>nameFirst</th>\n",
       "      <th>nameLast</th>\n",
       "      <th>playerID</th>\n",
       "      <th>SchoolName</th>\n",
       "      <th>YearOfInduction</th>\n",
       "    </tr>\n",
       "  </thead>\n",
       "  <tbody>\n",
       "    <tr>\n",
       "      <th>0</th>\n",
       "      <td>Randy</td>\n",
       "      <td>Johnson</td>\n",
       "      <td>johnsra05</td>\n",
       "      <td>University of Southern California</td>\n",
       "      <td>2015</td>\n",
       "    </tr>\n",
       "    <tr>\n",
       "      <th>1</th>\n",
       "      <td>Pat</td>\n",
       "      <td>Gillick</td>\n",
       "      <td>gillipa99</td>\n",
       "      <td>Los Angeles Valley College</td>\n",
       "      <td>2011</td>\n",
       "    </tr>\n",
       "    <tr>\n",
       "      <th>2</th>\n",
       "      <td>Pat</td>\n",
       "      <td>Gillick</td>\n",
       "      <td>gillipa99</td>\n",
       "      <td>University of Southern California</td>\n",
       "      <td>2011</td>\n",
       "    </tr>\n",
       "    <tr>\n",
       "      <th>3</th>\n",
       "      <td>Doug</td>\n",
       "      <td>Harvey</td>\n",
       "      <td>harvedo99</td>\n",
       "      <td>San Diego State University</td>\n",
       "      <td>2010</td>\n",
       "    </tr>\n",
       "    <tr>\n",
       "      <th>4</th>\n",
       "      <td>Dick</td>\n",
       "      <td>Williams</td>\n",
       "      <td>willidi02</td>\n",
       "      <td>Pasadena City College</td>\n",
       "      <td>2008</td>\n",
       "    </tr>\n",
       "    <tr>\n",
       "      <th>5</th>\n",
       "      <td>Tony</td>\n",
       "      <td>Gwynn</td>\n",
       "      <td>gwynnto01</td>\n",
       "      <td>San Diego State University</td>\n",
       "      <td>2007</td>\n",
       "    </tr>\n",
       "    <tr>\n",
       "      <th>6</th>\n",
       "      <td>Ozzie</td>\n",
       "      <td>Smith</td>\n",
       "      <td>smithoz01</td>\n",
       "      <td>California Polytechnic State University, San L...</td>\n",
       "      <td>2002</td>\n",
       "    </tr>\n",
       "    <tr>\n",
       "      <th>7</th>\n",
       "      <td>Tom</td>\n",
       "      <td>Seaver</td>\n",
       "      <td>seaveto01</td>\n",
       "      <td>Fresno City College</td>\n",
       "      <td>1992</td>\n",
       "    </tr>\n",
       "    <tr>\n",
       "      <th>8</th>\n",
       "      <td>Tom</td>\n",
       "      <td>Seaver</td>\n",
       "      <td>seaveto01</td>\n",
       "      <td>University of Southern California</td>\n",
       "      <td>1992</td>\n",
       "    </tr>\n",
       "    <tr>\n",
       "      <th>9</th>\n",
       "      <td>Joe</td>\n",
       "      <td>Morgan</td>\n",
       "      <td>morgajo02</td>\n",
       "      <td>Merritt College</td>\n",
       "      <td>1990</td>\n",
       "    </tr>\n",
       "    <tr>\n",
       "      <th>10</th>\n",
       "      <td>Harry</td>\n",
       "      <td>Hooper</td>\n",
       "      <td>hoopeha01</td>\n",
       "      <td>St. Mary's College of California</td>\n",
       "      <td>1971</td>\n",
       "    </tr>\n",
       "    <tr>\n",
       "      <th>11</th>\n",
       "      <td>Jackie</td>\n",
       "      <td>Robinson</td>\n",
       "      <td>robinja02</td>\n",
       "      <td>University of California, Los Angeles</td>\n",
       "      <td>1962</td>\n",
       "    </tr>\n",
       "  </tbody>\n",
       "</table>\n",
       "</div>"
      ],
      "text/plain": [
       "   nameFirst  nameLast   playerID  \\\n",
       "0      Randy   Johnson  johnsra05   \n",
       "1        Pat   Gillick  gillipa99   \n",
       "2        Pat   Gillick  gillipa99   \n",
       "3       Doug    Harvey  harvedo99   \n",
       "4       Dick  Williams  willidi02   \n",
       "5       Tony     Gwynn  gwynnto01   \n",
       "6      Ozzie     Smith  smithoz01   \n",
       "7        Tom    Seaver  seaveto01   \n",
       "8        Tom    Seaver  seaveto01   \n",
       "9        Joe    Morgan  morgajo02   \n",
       "10     Harry    Hooper  hoopeha01   \n",
       "11    Jackie  Robinson  robinja02   \n",
       "\n",
       "                                           SchoolName  YearOfInduction  \n",
       "0                   University of Southern California             2015  \n",
       "1                          Los Angeles Valley College             2011  \n",
       "2                   University of Southern California             2011  \n",
       "3                          San Diego State University             2010  \n",
       "4                               Pasadena City College             2008  \n",
       "5                          San Diego State University             2007  \n",
       "6   California Polytechnic State University, San L...             2002  \n",
       "7                                 Fresno City College             1992  \n",
       "8                   University of Southern California             1992  \n",
       "9                                     Merritt College             1990  \n",
       "10                   St. Mary's College of California             1971  \n",
       "11              University of California, Los Angeles             1962  "
      ]
     },
     "metadata": {},
     "output_type": "display_data"
    }
   ],
   "source": [
    "#pandas df for list of students who are successfully inducted in Hall of Fame and played in college in CA\n",
    "inducted_clgCA = pd.read_sql_query(\"\"\"SELECT DISTINCT nameFirst, nameLast, H.playerID, name_full as SchoolName, H.yearid as YearOfInduction \n",
    "                                      FROM Master M\n",
    "                                      Right JOIN HallOfFame H ON H.playerID = M.playerID\n",
    "                                      LEFT JOIN CollegePlaying C ON C.playerID = H.playerID\n",
    "                                      LEFT JOIN Schools S ON C.schoolID = S.schoolID\n",
    "                                      WHERE S.state = 'CA'\n",
    "                                      AND H.inducted = 'Y'\n",
    "                                      ORDER BY H.yearid DESC, name_full ASC;\"\"\", conn)\n",
    "\n",
    "display(inducted_clgCA)"
   ]
  },
  {
   "cell_type": "markdown",
   "metadata": {},
   "source": [
    "## Part IV (20 points)"
   ]
  },
  {
   "cell_type": "markdown",
   "metadata": {},
   "source": [
    "Find the namefirst, namelast, playerid, yearid, and single-year slg (Slugging Percentage) of the players and save the results in a dataframe. For statistical significance, only include players with more than 50 at-bats in the season. Order the results by slg descending. \n",
    "\n",
    "Display the players with the 10 best annual Slugging Percentage recorded over all time. \n",
    "\n",
    "Slugging Percentage is not provided in the database. It can be computed using a formula given at https://en.wikipedia.org/wiki/Slugging_percentage and the data in the database. Note that there is one term in the formula that is not directly available as a column in the database. You will have to compute it using some of the columns. \n",
    "\n",
    "Also, you have to compute slg as a floating point number, so make sure to use SQL in a way to get this. "
   ]
  },
  {
   "cell_type": "code",
   "execution_count": 16,
   "metadata": {},
   "outputs": [],
   "source": [
    "#Slugging percentage of the players with at-bats>50\n",
    "slg_players = pd.read_sql_query(\"\"\"SELECT nameFirst, nameLast, Batting.playerID, yearid, \n",
    "                                   CAST((CAST((H-(\"2B\"+\"3B\"+HR)) AS FLOAT) + CAST(2*\"2B\" AS FLOAT) + CAST(3*\"3B\" AS FLOAT) + CAST(4*HR AS FLOAT)) / CAST(AB AS FLOAT) AS FLOAT) AS SLG \n",
    "                                   FROM Batting, Master \n",
    "                                   WHERE Master.playerID = Batting.playerID \n",
    "                                   AND AB > 50 \n",
    "                                   ORDER BY slg DESC;\"\"\", conn)"
   ]
  },
  {
   "cell_type": "code",
   "execution_count": 17,
   "metadata": {},
   "outputs": [
    {
     "data": {
      "text/html": [
       "<div>\n",
       "<style scoped>\n",
       "    .dataframe tbody tr th:only-of-type {\n",
       "        vertical-align: middle;\n",
       "    }\n",
       "\n",
       "    .dataframe tbody tr th {\n",
       "        vertical-align: top;\n",
       "    }\n",
       "\n",
       "    .dataframe thead th {\n",
       "        text-align: right;\n",
       "    }\n",
       "</style>\n",
       "<table border=\"1\" class=\"dataframe\">\n",
       "  <thead>\n",
       "    <tr style=\"text-align: right;\">\n",
       "      <th></th>\n",
       "      <th>nameFirst</th>\n",
       "      <th>nameLast</th>\n",
       "      <th>playerID</th>\n",
       "      <th>yearID</th>\n",
       "      <th>SLG</th>\n",
       "    </tr>\n",
       "  </thead>\n",
       "  <tbody>\n",
       "    <tr>\n",
       "      <th>0</th>\n",
       "      <td>Shane</td>\n",
       "      <td>Spencer</td>\n",
       "      <td>spencsh01</td>\n",
       "      <td>1998</td>\n",
       "      <td>0.910448</td>\n",
       "    </tr>\n",
       "    <tr>\n",
       "      <th>1</th>\n",
       "      <td>Ted</td>\n",
       "      <td>Williams</td>\n",
       "      <td>willite01</td>\n",
       "      <td>1953</td>\n",
       "      <td>0.901099</td>\n",
       "    </tr>\n",
       "    <tr>\n",
       "      <th>2</th>\n",
       "      <td>Barry</td>\n",
       "      <td>Bonds</td>\n",
       "      <td>bondsba01</td>\n",
       "      <td>2001</td>\n",
       "      <td>0.863445</td>\n",
       "    </tr>\n",
       "    <tr>\n",
       "      <th>3</th>\n",
       "      <td>Babe</td>\n",
       "      <td>Ruth</td>\n",
       "      <td>ruthba01</td>\n",
       "      <td>1920</td>\n",
       "      <td>0.849015</td>\n",
       "    </tr>\n",
       "    <tr>\n",
       "      <th>4</th>\n",
       "      <td>Babe</td>\n",
       "      <td>Ruth</td>\n",
       "      <td>ruthba01</td>\n",
       "      <td>1921</td>\n",
       "      <td>0.846296</td>\n",
       "    </tr>\n",
       "    <tr>\n",
       "      <th>5</th>\n",
       "      <td>Jeff</td>\n",
       "      <td>Baker</td>\n",
       "      <td>bakerje03</td>\n",
       "      <td>2006</td>\n",
       "      <td>0.824561</td>\n",
       "    </tr>\n",
       "    <tr>\n",
       "      <th>6</th>\n",
       "      <td>Marlon</td>\n",
       "      <td>Anderson</td>\n",
       "      <td>anderma02</td>\n",
       "      <td>2006</td>\n",
       "      <td>0.812500</td>\n",
       "    </tr>\n",
       "    <tr>\n",
       "      <th>7</th>\n",
       "      <td>Barry</td>\n",
       "      <td>Bonds</td>\n",
       "      <td>bondsba01</td>\n",
       "      <td>2004</td>\n",
       "      <td>0.812332</td>\n",
       "    </tr>\n",
       "    <tr>\n",
       "      <th>8</th>\n",
       "      <td>Barry</td>\n",
       "      <td>Bonds</td>\n",
       "      <td>bondsba01</td>\n",
       "      <td>2002</td>\n",
       "      <td>0.799007</td>\n",
       "    </tr>\n",
       "    <tr>\n",
       "      <th>9</th>\n",
       "      <td>Babe</td>\n",
       "      <td>Ruth</td>\n",
       "      <td>ruthba01</td>\n",
       "      <td>1927</td>\n",
       "      <td>0.772222</td>\n",
       "    </tr>\n",
       "  </tbody>\n",
       "</table>\n",
       "</div>"
      ],
      "text/plain": [
       "  nameFirst  nameLast   playerID  yearID       SLG\n",
       "0     Shane   Spencer  spencsh01    1998  0.910448\n",
       "1       Ted  Williams  willite01    1953  0.901099\n",
       "2     Barry     Bonds  bondsba01    2001  0.863445\n",
       "3      Babe      Ruth   ruthba01    1920  0.849015\n",
       "4      Babe      Ruth   ruthba01    1921  0.846296\n",
       "5      Jeff     Baker  bakerje03    2006  0.824561\n",
       "6    Marlon  Anderson  anderma02    2006  0.812500\n",
       "7     Barry     Bonds  bondsba01    2004  0.812332\n",
       "8     Barry     Bonds  bondsba01    2002  0.799007\n",
       "9      Babe      Ruth   ruthba01    1927  0.772222"
      ]
     },
     "execution_count": 17,
     "metadata": {},
     "output_type": "execute_result"
    }
   ],
   "source": [
    "#list of players with the 10 best annual Slugging Percentage recorded over all time.\n",
    "slg_players.head(10)"
   ]
  },
  {
   "cell_type": "markdown",
   "metadata": {},
   "source": [
    "## Part V (20 points)"
   ]
  },
  {
   "cell_type": "markdown",
   "metadata": {},
   "source": [
    "(i) Find the yearid, min, max, and average of all player salaries for each year recorded, ordered by yearid in ascending order. Save the results as a dataframe and display it. \n",
    "\n",
    "(ii) For the player salaries in 2016, display a histogram with 10 bins. You may use the dataframe.hist(bin=10) function to do this. Also, it may be nicer to divide the salaries by 1,000,000 to show the amounts in millions. "
   ]
  },
  {
   "cell_type": "code",
   "execution_count": 18,
   "metadata": {},
   "outputs": [
    {
     "data": {
      "text/html": [
       "<div>\n",
       "<style scoped>\n",
       "    .dataframe tbody tr th:only-of-type {\n",
       "        vertical-align: middle;\n",
       "    }\n",
       "\n",
       "    .dataframe tbody tr th {\n",
       "        vertical-align: top;\n",
       "    }\n",
       "\n",
       "    .dataframe thead th {\n",
       "        text-align: right;\n",
       "    }\n",
       "</style>\n",
       "<table border=\"1\" class=\"dataframe\">\n",
       "  <thead>\n",
       "    <tr style=\"text-align: right;\">\n",
       "      <th></th>\n",
       "      <th>yearID</th>\n",
       "      <th>Min</th>\n",
       "      <th>Max</th>\n",
       "      <th>Avg</th>\n",
       "    </tr>\n",
       "  </thead>\n",
       "  <tbody>\n",
       "    <tr>\n",
       "      <th>0</th>\n",
       "      <td>1985</td>\n",
       "      <td>60000.0</td>\n",
       "      <td>2130300.0</td>\n",
       "      <td>476299.45</td>\n",
       "    </tr>\n",
       "    <tr>\n",
       "      <th>1</th>\n",
       "      <td>1986</td>\n",
       "      <td>60000.0</td>\n",
       "      <td>2800000.0</td>\n",
       "      <td>417147.04</td>\n",
       "    </tr>\n",
       "    <tr>\n",
       "      <th>2</th>\n",
       "      <td>1987</td>\n",
       "      <td>62500.0</td>\n",
       "      <td>2127333.0</td>\n",
       "      <td>434729.47</td>\n",
       "    </tr>\n",
       "    <tr>\n",
       "      <th>3</th>\n",
       "      <td>1988</td>\n",
       "      <td>62500.0</td>\n",
       "      <td>2340000.0</td>\n",
       "      <td>453171.08</td>\n",
       "    </tr>\n",
       "    <tr>\n",
       "      <th>4</th>\n",
       "      <td>1989</td>\n",
       "      <td>62500.0</td>\n",
       "      <td>2766667.0</td>\n",
       "      <td>506323.08</td>\n",
       "    </tr>\n",
       "    <tr>\n",
       "      <th>5</th>\n",
       "      <td>1990</td>\n",
       "      <td>100000.0</td>\n",
       "      <td>3200000.0</td>\n",
       "      <td>511973.69</td>\n",
       "    </tr>\n",
       "    <tr>\n",
       "      <th>6</th>\n",
       "      <td>1991</td>\n",
       "      <td>100000.0</td>\n",
       "      <td>3800000.0</td>\n",
       "      <td>894961.19</td>\n",
       "    </tr>\n",
       "    <tr>\n",
       "      <th>7</th>\n",
       "      <td>1992</td>\n",
       "      <td>109000.0</td>\n",
       "      <td>6100000.0</td>\n",
       "      <td>1047520.58</td>\n",
       "    </tr>\n",
       "    <tr>\n",
       "      <th>8</th>\n",
       "      <td>1993</td>\n",
       "      <td>0.0</td>\n",
       "      <td>6200000.0</td>\n",
       "      <td>976966.56</td>\n",
       "    </tr>\n",
       "    <tr>\n",
       "      <th>9</th>\n",
       "      <td>1994</td>\n",
       "      <td>50000.0</td>\n",
       "      <td>6300000.0</td>\n",
       "      <td>1049588.56</td>\n",
       "    </tr>\n",
       "    <tr>\n",
       "      <th>10</th>\n",
       "      <td>1995</td>\n",
       "      <td>109000.0</td>\n",
       "      <td>9237500.0</td>\n",
       "      <td>964979.07</td>\n",
       "    </tr>\n",
       "    <tr>\n",
       "      <th>11</th>\n",
       "      <td>1996</td>\n",
       "      <td>109000.0</td>\n",
       "      <td>9237500.0</td>\n",
       "      <td>1027909.29</td>\n",
       "    </tr>\n",
       "    <tr>\n",
       "      <th>12</th>\n",
       "      <td>1997</td>\n",
       "      <td>50000.0</td>\n",
       "      <td>10000000.0</td>\n",
       "      <td>1218687.44</td>\n",
       "    </tr>\n",
       "    <tr>\n",
       "      <th>13</th>\n",
       "      <td>1998</td>\n",
       "      <td>170000.0</td>\n",
       "      <td>14936667.0</td>\n",
       "      <td>1280844.56</td>\n",
       "    </tr>\n",
       "    <tr>\n",
       "      <th>14</th>\n",
       "      <td>1999</td>\n",
       "      <td>0.0</td>\n",
       "      <td>11949794.0</td>\n",
       "      <td>1485316.85</td>\n",
       "    </tr>\n",
       "    <tr>\n",
       "      <th>15</th>\n",
       "      <td>2000</td>\n",
       "      <td>200000.0</td>\n",
       "      <td>15714286.0</td>\n",
       "      <td>1992984.57</td>\n",
       "    </tr>\n",
       "    <tr>\n",
       "      <th>16</th>\n",
       "      <td>2001</td>\n",
       "      <td>200000.0</td>\n",
       "      <td>22000000.0</td>\n",
       "      <td>2279841.06</td>\n",
       "    </tr>\n",
       "    <tr>\n",
       "      <th>17</th>\n",
       "      <td>2002</td>\n",
       "      <td>200000.0</td>\n",
       "      <td>22000000.0</td>\n",
       "      <td>2392526.62</td>\n",
       "    </tr>\n",
       "    <tr>\n",
       "      <th>18</th>\n",
       "      <td>2003</td>\n",
       "      <td>165574.0</td>\n",
       "      <td>22000000.0</td>\n",
       "      <td>2573472.95</td>\n",
       "    </tr>\n",
       "    <tr>\n",
       "      <th>19</th>\n",
       "      <td>2004</td>\n",
       "      <td>300000.0</td>\n",
       "      <td>22500000.0</td>\n",
       "      <td>2491776.10</td>\n",
       "    </tr>\n",
       "    <tr>\n",
       "      <th>20</th>\n",
       "      <td>2005</td>\n",
       "      <td>300000.0</td>\n",
       "      <td>26000000.0</td>\n",
       "      <td>2633830.80</td>\n",
       "    </tr>\n",
       "    <tr>\n",
       "      <th>21</th>\n",
       "      <td>2006</td>\n",
       "      <td>327000.0</td>\n",
       "      <td>21680727.0</td>\n",
       "      <td>2834520.90</td>\n",
       "    </tr>\n",
       "    <tr>\n",
       "      <th>22</th>\n",
       "      <td>2007</td>\n",
       "      <td>380000.0</td>\n",
       "      <td>23428571.0</td>\n",
       "      <td>2941435.85</td>\n",
       "    </tr>\n",
       "    <tr>\n",
       "      <th>23</th>\n",
       "      <td>2008</td>\n",
       "      <td>390000.0</td>\n",
       "      <td>28000000.0</td>\n",
       "      <td>3136517.14</td>\n",
       "    </tr>\n",
       "    <tr>\n",
       "      <th>24</th>\n",
       "      <td>2009</td>\n",
       "      <td>400000.0</td>\n",
       "      <td>33000000.0</td>\n",
       "      <td>3277646.98</td>\n",
       "    </tr>\n",
       "    <tr>\n",
       "      <th>25</th>\n",
       "      <td>2010</td>\n",
       "      <td>400000.0</td>\n",
       "      <td>33000000.0</td>\n",
       "      <td>3278746.83</td>\n",
       "    </tr>\n",
       "    <tr>\n",
       "      <th>26</th>\n",
       "      <td>2011</td>\n",
       "      <td>414000.0</td>\n",
       "      <td>32000000.0</td>\n",
       "      <td>3318838.25</td>\n",
       "    </tr>\n",
       "    <tr>\n",
       "      <th>27</th>\n",
       "      <td>2012</td>\n",
       "      <td>480000.0</td>\n",
       "      <td>30000000.0</td>\n",
       "      <td>3458421.22</td>\n",
       "    </tr>\n",
       "    <tr>\n",
       "      <th>28</th>\n",
       "      <td>2013</td>\n",
       "      <td>480000.0</td>\n",
       "      <td>29000000.0</td>\n",
       "      <td>3723344.35</td>\n",
       "    </tr>\n",
       "    <tr>\n",
       "      <th>29</th>\n",
       "      <td>2014</td>\n",
       "      <td>500000.0</td>\n",
       "      <td>26000000.0</td>\n",
       "      <td>3980445.91</td>\n",
       "    </tr>\n",
       "    <tr>\n",
       "      <th>30</th>\n",
       "      <td>2015</td>\n",
       "      <td>507000.0</td>\n",
       "      <td>32571000.0</td>\n",
       "      <td>4301276.09</td>\n",
       "    </tr>\n",
       "    <tr>\n",
       "      <th>31</th>\n",
       "      <td>2016</td>\n",
       "      <td>507500.0</td>\n",
       "      <td>33000000.0</td>\n",
       "      <td>4396409.60</td>\n",
       "    </tr>\n",
       "  </tbody>\n",
       "</table>\n",
       "</div>"
      ],
      "text/plain": [
       "    yearID       Min         Max         Avg\n",
       "0     1985   60000.0   2130300.0   476299.45\n",
       "1     1986   60000.0   2800000.0   417147.04\n",
       "2     1987   62500.0   2127333.0   434729.47\n",
       "3     1988   62500.0   2340000.0   453171.08\n",
       "4     1989   62500.0   2766667.0   506323.08\n",
       "5     1990  100000.0   3200000.0   511973.69\n",
       "6     1991  100000.0   3800000.0   894961.19\n",
       "7     1992  109000.0   6100000.0  1047520.58\n",
       "8     1993       0.0   6200000.0   976966.56\n",
       "9     1994   50000.0   6300000.0  1049588.56\n",
       "10    1995  109000.0   9237500.0   964979.07\n",
       "11    1996  109000.0   9237500.0  1027909.29\n",
       "12    1997   50000.0  10000000.0  1218687.44\n",
       "13    1998  170000.0  14936667.0  1280844.56\n",
       "14    1999       0.0  11949794.0  1485316.85\n",
       "15    2000  200000.0  15714286.0  1992984.57\n",
       "16    2001  200000.0  22000000.0  2279841.06\n",
       "17    2002  200000.0  22000000.0  2392526.62\n",
       "18    2003  165574.0  22000000.0  2573472.95\n",
       "19    2004  300000.0  22500000.0  2491776.10\n",
       "20    2005  300000.0  26000000.0  2633830.80\n",
       "21    2006  327000.0  21680727.0  2834520.90\n",
       "22    2007  380000.0  23428571.0  2941435.85\n",
       "23    2008  390000.0  28000000.0  3136517.14\n",
       "24    2009  400000.0  33000000.0  3277646.98\n",
       "25    2010  400000.0  33000000.0  3278746.83\n",
       "26    2011  414000.0  32000000.0  3318838.25\n",
       "27    2012  480000.0  30000000.0  3458421.22\n",
       "28    2013  480000.0  29000000.0  3723344.35\n",
       "29    2014  500000.0  26000000.0  3980445.91\n",
       "30    2015  507000.0  32571000.0  4301276.09\n",
       "31    2016  507500.0  33000000.0  4396409.60"
      ]
     },
     "metadata": {},
     "output_type": "display_data"
    }
   ],
   "source": [
    "#salaries summary for each year\n",
    "salaries = pd.read_sql_query(\"SELECT yearid, min(salary) as Min, max(salary) as Max, round(avg(salary),2) as Avg from Salaries GROUP BY yearid ORDER BY yearid;\", conn)\n",
    "display(salaries)"
   ]
  },
  {
   "cell_type": "code",
   "execution_count": 40,
   "metadata": {},
   "outputs": [
    {
     "data": {
      "text/plain": [
       "Text(0.5, 1.0, 'Player Salaries in 2016')"
      ]
     },
     "execution_count": 40,
     "metadata": {},
     "output_type": "execute_result"
    },
    {
     "data": {
      "image/png": "[encoded data removed]",
      "text/plain": [
       "<Figure size 640x480 with 1 Axes>"
      ]
     },
     "metadata": {},
     "output_type": "display_data"
    }
   ],
   "source": [
    "# histogram of salaries for year 2016 in millions\n",
    "salary_2016 = pd.read_sql_query(\"SELECT salary/1000000 AS Salary from Salaries WHERE yearid = 2016;\", conn)\n",
    "\n",
    "salary_2016.hist(bins=10)\n",
    "plt.xlabel('Salary in millions')\n",
    "plt.ylabel('Frequency')\n",
    "plt.title('Player Salaries in 2016')"
   ]
  },
  {
   "cell_type": "markdown",
   "metadata": {},
   "source": [
    "## Part VI (10 points)"
   ]
  },
  {
   "cell_type": "markdown",
   "metadata": {},
   "source": [
    "Extract and display a facet of the dataset that you think is interesting. This should not be a facet from Parts I-V. "
   ]
  },
  {
   "cell_type": "markdown",
   "metadata": {},
   "source": [
    "### Facet 1"
   ]
  },
  {
   "cell_type": "markdown",
   "metadata": {},
   "source": [
    "At what age maximum players hit their maximum home runs?\n",
    "Here is the plot showing us that there are maximum number of players who hit the highest home runs in their liftime is in their thirtees, specially at the age of 37 and 39."
   ]
  },
  {
   "cell_type": "code",
   "execution_count": 20,
   "metadata": {},
   "outputs": [
    {
     "data": {
      "text/html": [
       "<div>\n",
       "<style scoped>\n",
       "    .dataframe tbody tr th:only-of-type {\n",
       "        vertical-align: middle;\n",
       "    }\n",
       "\n",
       "    .dataframe tbody tr th {\n",
       "        vertical-align: top;\n",
       "    }\n",
       "\n",
       "    .dataframe thead th {\n",
       "        text-align: right;\n",
       "    }\n",
       "</style>\n",
       "<table border=\"1\" class=\"dataframe\">\n",
       "  <thead>\n",
       "    <tr style=\"text-align: right;\">\n",
       "      <th></th>\n",
       "      <th>playerID</th>\n",
       "      <th>yearID</th>\n",
       "      <th>HR</th>\n",
       "      <th>Age</th>\n",
       "    </tr>\n",
       "  </thead>\n",
       "  <tbody>\n",
       "    <tr>\n",
       "      <th>0</th>\n",
       "      <td>aaronha01</td>\n",
       "      <td>1971</td>\n",
       "      <td>47</td>\n",
       "      <td>37.0</td>\n",
       "    </tr>\n",
       "    <tr>\n",
       "      <th>1</th>\n",
       "      <td>aaronto01</td>\n",
       "      <td>1962</td>\n",
       "      <td>8</td>\n",
       "      <td>23.0</td>\n",
       "    </tr>\n",
       "    <tr>\n",
       "      <th>2</th>\n",
       "      <td>abbated01</td>\n",
       "      <td>1904</td>\n",
       "      <td>3</td>\n",
       "      <td>27.0</td>\n",
       "    </tr>\n",
       "    <tr>\n",
       "      <th>3</th>\n",
       "      <td>abbeych01</td>\n",
       "      <td>1895</td>\n",
       "      <td>8</td>\n",
       "      <td>29.0</td>\n",
       "    </tr>\n",
       "    <tr>\n",
       "      <th>4</th>\n",
       "      <td>abbotfr01</td>\n",
       "      <td>1903</td>\n",
       "      <td>1</td>\n",
       "      <td>29.0</td>\n",
       "    </tr>\n",
       "    <tr>\n",
       "      <th>...</th>\n",
       "      <td>...</td>\n",
       "      <td>...</td>\n",
       "      <td>...</td>\n",
       "      <td>...</td>\n",
       "    </tr>\n",
       "    <tr>\n",
       "      <th>7731</th>\n",
       "      <td>zuletju01</td>\n",
       "      <td>2001</td>\n",
       "      <td>6</td>\n",
       "      <td>26.0</td>\n",
       "    </tr>\n",
       "    <tr>\n",
       "      <th>7732</th>\n",
       "      <td>zuninmi01</td>\n",
       "      <td>2014</td>\n",
       "      <td>22</td>\n",
       "      <td>23.0</td>\n",
       "    </tr>\n",
       "    <tr>\n",
       "      <th>7733</th>\n",
       "      <td>zupcibo01</td>\n",
       "      <td>1992</td>\n",
       "      <td>3</td>\n",
       "      <td>26.0</td>\n",
       "    </tr>\n",
       "    <tr>\n",
       "      <th>7734</th>\n",
       "      <td>zuvelpa01</td>\n",
       "      <td>1989</td>\n",
       "      <td>2</td>\n",
       "      <td>31.0</td>\n",
       "    </tr>\n",
       "    <tr>\n",
       "      <th>7735</th>\n",
       "      <td>zwilldu01</td>\n",
       "      <td>1914</td>\n",
       "      <td>16</td>\n",
       "      <td>26.0</td>\n",
       "    </tr>\n",
       "  </tbody>\n",
       "</table>\n",
       "<p>7736 rows × 4 columns</p>\n",
       "</div>"
      ],
      "text/plain": [
       "       playerID  yearID  HR   Age\n",
       "0     aaronha01    1971  47  37.0\n",
       "1     aaronto01    1962   8  23.0\n",
       "2     abbated01    1904   3  27.0\n",
       "3     abbeych01    1895   8  29.0\n",
       "4     abbotfr01    1903   1  29.0\n",
       "...         ...     ...  ..   ...\n",
       "7731  zuletju01    2001   6  26.0\n",
       "7732  zuninmi01    2014  22  23.0\n",
       "7733  zupcibo01    1992   3  26.0\n",
       "7734  zuvelpa01    1989   2  31.0\n",
       "7735  zwilldu01    1914  16  26.0\n",
       "\n",
       "[7736 rows x 4 columns]"
      ]
     },
     "metadata": {},
     "output_type": "display_data"
    }
   ],
   "source": [
    "HR_vs_age = pd.read_sql_query(\"\"\"SELECT batting.playerid, yearid, HR, (yearid-birthYear) AS Age\n",
    "                              FROM Batting \n",
    "                              JOIN Master ON batting.playerid = master.playerID \n",
    "                              WHERE hr <> 0 \n",
    "                              GROUP BY batting.playerID \n",
    "                              HAVING HR = max(hr);\"\"\", conn)\n",
    "display(HR_vs_age)"
   ]
  },
  {
   "cell_type": "code",
   "execution_count": 21,
   "metadata": {},
   "outputs": [
    {
     "data": {
      "text/plain": [
       "<Axes: xlabel='Age', ylabel='HR'>"
      ]
     },
     "execution_count": 21,
     "metadata": {},
     "output_type": "execute_result"
    },
    {
     "data": {
      "image/png": "[encoded data removed]",
      "text/plain": [
       "<Figure size 1200x500 with 1 Axes>"
      ]
     },
     "metadata": {},
     "output_type": "display_data"
    }
   ],
   "source": [
    "fig, ax = plt.subplots(figsize=(12, 5))\n",
    "sns.barplot(x=\"Age\", y=\"HR\", ax=ax, data=HR_vs_age)"
   ]
  },
  {
   "cell_type": "markdown",
   "metadata": {},
   "source": [
    "### Facet 2"
   ]
  },
  {
   "cell_type": "markdown",
   "metadata": {},
   "source": [
    "Which school produce produced the students who won highest number of awards?\n",
    "Here is the plot of colleges who produced students who won maximum number of awards. From the plot we can derive that students of ASU and Ohio State are at the top followed by Boston, Columbia, Texas Wesleyan etcetra."
   ]
  },
  {
   "cell_type": "code",
   "execution_count": 22,
   "metadata": {},
   "outputs": [
    {
     "data": {
      "text/plain": [
       "Text(0.5, 1.0, 'Top 10 schools whose students won highest number of awards')"
      ]
     },
     "execution_count": 22,
     "metadata": {},
     "output_type": "execute_result"
    },
    {
     "data": {
      "image/png": "[encoded data removed]",
      "text/plain": [
       "<Figure size 2500x1000 with 1 Axes>"
      ]
     },
     "metadata": {},
     "output_type": "display_data"
    }
   ],
   "source": [
    "awrds_vs_schl = pd.read_sql_query(\"select A.playerID, a.total_awards as total_awards, s.name_full as school_name from (select playerID, count(awardid) as total_awards from AwardsPlayers group by playerID order by total_awards DESC) A join CollegePlaying C on A.playerID = C.playerID join Schools S on S.schoolID = C.schoolID group by a.playerID order by total_awards DESC LIMIT 10;\", conn)\n",
    "fig, ax = plt.subplots(figsize=(25, 10))\n",
    "sns.barplot(x=\"school_name\", y=\"total_awards\", width=0.5, ax=ax, data=awrds_vs_schl)\n",
    "plt.xlabel(\"School Name\")\n",
    "plt.ylabel(\"Total Awards\")\n",
    "plt.title(\"Top 10 schools whose students won highest number of awards\")"
   ]
  },
  {
   "cell_type": "code",
   "execution_count": 43,
   "metadata": {},
   "outputs": [],
   "source": [
    "c.close()\n",
    "conn.close()"
   ]
  }
 ],
 "metadata": {
  "anaconda-cloud": {},
  "kernelspec": {
   "display_name": "Python 3 (ipykernel)",
   "language": "python",
   "name": "python3"
  },
  "language_info": {
   "codemirror_mode": {
    "name": "ipython",
    "version": 3
   },
   "file_extension": ".py",
   "mimetype": "text/x-python",
   "name": "python",
   "nbconvert_exporter": "python",
   "pygments_lexer": "ipython3",
   "version": "3.11.5"
  },
  "toc": {
   "base_numbering": 1,
   "nav_menu": {},
   "number_sections": true,
   "sideBar": true,
   "skip_h1_title": false,
   "title_cell": "Table of Contents",
   "title_sidebar": "Contents",
   "toc_cell": false,
   "toc_position": {},
   "toc_section_display": true,
   "toc_window_display": false
  }
 },
 "nbformat": 4,
 "nbformat_minor": 1
}
